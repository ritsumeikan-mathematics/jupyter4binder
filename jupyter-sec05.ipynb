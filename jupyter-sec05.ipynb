{
 "cells": [
  {
   "cell_type": "markdown",
   "metadata": {},
   "source": [
    "# 第5章ファイル入出力 \n",
    "\n",
    "+ [(再掲)編集モードとコマンドモード](#modes)\n",
    "+ [ファイルの読み込み](#fileread)\n",
    "+ [ファイルの書き出し](#filerwrite)\n",
    "+ [標準ライブラリCSV](#csvlib)\n",
    "\n",
    "## <div id=\"modes\">(再掲)編集モードとコマンドモード </div>\n",
    "Jupyter では2つのモードを使って操作を行う\n",
    "\n",
    "+ <font color=\"green\">編集モード(セル内にカーソルあり)</font>では，セル内にコードを入力する\n",
    "+ <font color=\"blue\">コマンドモード(セル内にカーソルなし)</font>では，セル全体の操作を行う\n",
    "    \n",
    "キーボートの操作は慣れると便利である．\n",
    "\n",
    "### 共通の操作\n",
    "| 操作 | マウスでの操作 | キーボードでの操作 |\n",
    "|:--:|:--:|:--:|\n",
    "| セルの実行 | 上のアイコンから `Run` を選択 | `Ctrl+Enter` |\n",
    "| セルを実行して次のセルへ | 上のメニューの `Cell` から選択| `Shift+Enter` |\n",
    "|コマンド一覧の呼び出し| (なし) | `Ctrl+Shift+p` |\n",
    "\n",
    "\n",
    "### <font color=\"green\">編集モードでの操作(セル内にカーソルあり)</font>\n",
    "| 操作 | マウスでの操作 | キーボードでの操作 |\n",
    "|:--:|:--:|:--:|\n",
    "|コマンドモードへの移行 | セルの左側をクリック | `Escape`| \n",
    "|コマンドの補完| (なし) | `Tab`| \n",
    "| コード実行 | 上のアイコンから `Run` を選択 | `Shift+Enter` |\n",
    "\n",
    "### <font color=\"blue\">コマンドモードでの操作(セル内にカーソルなし)</font>\n",
    "| 操作 | マウスでの操作 | キーボードでの操作 |\n",
    "|--|--|--|\n",
    "|編集モードへの移行 | セルの中身をクリック | `Enter`| \n",
    "|セルを `code` に変更 | 上のメニューから選択 | `y`| \n",
    "|セルを `Markdown` に変更 | 上のメニューから選択 | `m`| \n",
    "|新規セルを上(resp. 下)に挿入 | 上のメニューの `Insert` から選択 | `a` (resp. `b`)| \n",
    "|セルのコピー| 上のメニューの `Edit` から選択 | `c` |\n",
    "|セルを上(resp. 下)に貼り付け| 上のメニューの `Edit` から選択 | `v` (resp. `Shift+ v`) |\n",
    "|セルを削除| 上のメニューの `Edit` から選択 | `d d` |\n",
    "|アンドゥ| 上のメニューの `Edit` から選択 | `z` |\n",
    "|コマンド一覧の呼び出し | (なし) | `p`|\n",
    "|ヘルプの表示 | 上のメニューの `Help` から選択 | `h`|\n",
    "\n"
   ]
  },
  {
   "cell_type": "markdown",
   "metadata": {},
   "source": [
    "## <div id=\"filerread\">ファイルの読み込み</div>\n",
    "\n",
    "+ `with` と `open` を用いる\n",
    "+ ここでは例として，Try Jupyter にある `environment.yml` という名前のファイルを開くことにする"
   ]
  },
  {
   "cell_type": "code",
   "execution_count": null,
   "metadata": {},
   "outputs": [],
   "source": [
    "# 全てを一度に読み込む場合は .read() を用いる\n",
    "with open('environment.yml') as f:\n",
    "    print(f.read())"
   ]
  },
  {
   "cell_type": "code",
   "execution_count": null,
   "metadata": {},
   "outputs": [],
   "source": [
    " # 1行ずつを(文字列の)リストとして扱う．上の結果と比較すると良いだろう．\n",
    "with open('environment.yml') as f:\n",
    "    print(f.readlines())"
   ]
  },
  {
   "cell_type": "code",
   "execution_count": null,
   "metadata": {},
   "outputs": [],
   "source": [
    " # for を用いることで1行ずつ表示される．\n",
    "with open('environment.yml') as f:\n",
    "    for row in f.readlines():\n",
    "        print(row)"
   ]
  },
  {
   "cell_type": "markdown",
   "metadata": {},
   "source": [
    "### 練習\n",
    "manaba+R にある `school-sprit.txt` を同様に読み込みなさい．\n",
    "\n",
    "セルは<font size=10>↓</font>に作成すること"
   ]
  },
  {
   "cell_type": "markdown",
   "metadata": {},
   "source": [
    "## <div id=\"filewrite\">ファイルの書き出し</div>\n",
    "\n",
    "+ ファイルの書き出しは，`open` でオプション `w` を設定する必要がある\n",
    "+ その後 `.write` により書き込む"
   ]
  },
  {
   "cell_type": "code",
   "execution_count": null,
   "metadata": {},
   "outputs": [],
   "source": [
    "# 1 から 5 までの2乗の値を power.csv という名前で書き込む\n",
    "with open('power.csv','w') as f:\n",
    "    for i in range(1,6):\n",
    "        f.write(str(i) + ',' + str(i**2) + '\\n')"
   ]
  },
  {
   "cell_type": "code",
   "execution_count": null,
   "metadata": {},
   "outputs": [],
   "source": [
    "# 以下でファイルの中身を確認できる\n",
    "with open('power.csv') as f:\n",
    "    print(f.read())"
   ]
  },
  {
   "cell_type": "markdown",
   "metadata": {},
   "source": [
    "### 練習\n",
    "上のコードを変更して，`power.csv` を $1$ から $100$ までの自然数について，その $1$ 乗，$2$ 乗，$3$ 乗を書き込んだものとして作成しなさい."
   ]
  },
  {
   "cell_type": "markdown",
   "metadata": {},
   "source": [
    "## <div id=\"csvlib\">標準ライブラリCSV</div>\n",
    "\n",
    "+ CSV ファイルについては，ライブラリ `csv` を用いるのが便利である．\n",
    "+ `import csv` とすることで，`csv.` から始まる命令が利用できる．\n",
    "+ ライブラリについての詳細は次章で扱う．"
   ]
  },
  {
   "cell_type": "code",
   "execution_count": null,
   "metadata": {},
   "outputs": [],
   "source": [
    "# csv を用いて1行ずつ表示\n",
    "import csv # これが必要になる．一度命令したら次回からは不要\n",
    "with open('power.csv') as f:\n",
    "    reader = csv.reader(f)\n",
    "    for row in reader: # 中身を 1 行ずつ表示\n",
    "        print(row)"
   ]
  },
  {
   "cell_type": "code",
   "execution_count": null,
   "metadata": {},
   "outputs": [],
   "source": [
    "# 第1成分を整数として和を求める\n",
    "import csv\n",
    "with open('power.csv') as f:\n",
    "    reader = csv.reader(f)\n",
    "    sum1 = 0 # 第1成分の和\n",
    "    for row in reader:\n",
    "        sum1 += int(row[0]) # 第 1 成分を整数型として加える\n",
    "        print(sum1) # 和の表示"
   ]
  },
  {
   "cell_type": "markdown",
   "metadata": {},
   "source": [
    "### 練習\n",
    "上のコードを修正して，第 2 列の和も順番に表示さ せるようにしなさい.\n",
    "\n",
    "例えば，`sum2` という変数を新たに作成すれば良いだろう."
   ]
  },
  {
   "cell_type": "markdown",
   "metadata": {},
   "source": [
    "### CSV による書き込み\n",
    "+ 書き込みは `csv.writer` を用いる．\n",
    "+ 具体的には，`csv.writer(ファイル名)` を `writer` として定義しておき，`writer.writerow` により書き込むことができる．\n",
    "+ 下のコードで作成される `power2.csv` は `power.csv` と同様であるが，文字列ではなくリストを直接書き込んでいる\n",
    "+ 数値演算を行う場合，こちらの方が便利である．\n"
   ]
  },
  {
   "cell_type": "code",
   "execution_count": null,
   "metadata": {},
   "outputs": [],
   "source": [
    "with open('power2.csv', 'w') as f:\n",
    "    writer = csv.writer(f)\n",
    "    for i in range(1,6):\n",
    "        writer.writerow([i,i**2])"
   ]
  },
  {
   "cell_type": "markdown",
   "metadata": {},
   "source": [
    "### 練習\n",
    "上のコードを変更して，`power2.csv` も $1$ から $100$ までの自然数について，その $1$ 乗，$2$ 乗，$3$ 乗を書き込んだものとして作成しなさい."
   ]
  },
  {
   "cell_type": "markdown",
   "metadata": {},
   "source": [
    "### 複雑なデータの書き込み\n",
    "+ より複雑なデータは，`append` によりリストを作成してから書き込むことになる．\n",
    "+ 場合によってはデータ(配列)を作成するものと書き込むものは別々に考えることが多いだろう．．\n",
    "+ 以下は等差数列を指定された項まで指定された方法で書き込むコードである．"
   ]
  },
  {
   "cell_type": "code",
   "execution_count": null,
   "metadata": {},
   "outputs": [],
   "source": [
    "a = 0 # 初期値\n",
    "d = 1 # 増分\n",
    "N = 100 # 項数\n",
    "K = 10 # 1行に表示させる数\n",
    "with open('sequence.csv', 'w') as f:\n",
    "    writer = csv.writer(f) # 書き込みの準備\n",
    "    row = [] # 書き込む配列の初期化\n",
    "    for i in range(N):\n",
    "        row.append(a) # 配列に項を追加\n",
    "        if len(row) == K: # 要素が K個で書き込む\n",
    "            writer.writerow(row) \n",
    "            row = [] # 書き込み後は初期化\n",
    "        a += d # 次の項\n",
    "    if len(row) > 0: # 残りの配列があれば最後に追加する.\n",
    "        writer.writerow(row)\n"
   ]
  },
  {
   "cell_type": "code",
   "execution_count": null,
   "metadata": {},
   "outputs": [],
   "source": [
    "# csv を用いて1行ずつ表示\n",
    "import csv # これが必要になる．一度命令したら次回からは不要\n",
    "with open('sequence.csv') as f:\n",
    "    reader = csv.reader(f)\n",
    "    for row in reader: # 中身を 1 行ずつ表示\n",
    "        print(row)"
   ]
  },
  {
   "cell_type": "code",
   "execution_count": null,
   "metadata": {},
   "outputs": [],
   "source": []
  },
  {
   "cell_type": "markdown",
   "metadata": {},
   "source": [
    "### 練習\n",
    "上のコードを参考にして，$a_{n} = 2^{n/100}$  の $n = 0,\\ldots,100$ の近似値を `sequence2.csv` に記録するコードを作成しなさい.\n",
    "\n",
    "これは等比数列で考えても良い し，直接数列を指定しても構わない.\n",
    "\n",
    "ちなみに，Python において，2 の 100 乗根は `2**(0.01)` として指定できる.\n",
    "\n",
    "セルは<font size=10>↓</font>に作成すること"
   ]
  },
  {
   "cell_type": "markdown",
   "metadata": {},
   "source": [
    "---"
   ]
  }
 ],
 "metadata": {
  "anaconda-cloud": {},
  "kernelspec": {
   "display_name": "Python 3.8.13 ('py38')",
   "language": "python",
   "name": "python3"
  },
  "language_info": {
   "codemirror_mode": {
    "name": "ipython",
    "version": 3
   },
   "file_extension": ".py",
   "mimetype": "text/x-python",
   "name": "python",
   "nbconvert_exporter": "python",
   "pygments_lexer": "ipython3",
   "version": "3.8.13"
  },
  "vscode": {
   "interpreter": {
    "hash": "3cf24d12a9b114246c42780b1769edabaec1c547131542ae7c2b30f29416ca6f"
   }
  },
  "widgets": {
   "application/vnd.jupyter.widget-state+json": {
    "state": {},
    "version_major": 2,
    "version_minor": 0
   }
  }
 },
 "nbformat": 4,
 "nbformat_minor": 4
}
