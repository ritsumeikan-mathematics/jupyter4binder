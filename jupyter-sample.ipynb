{
 "cells": [
  {
   "cell_type": "markdown",
   "metadata": {},
   "source": [
    "# Jupyter の実行例\n",
    "+ 以下，`Shift+Enter` により各セルが実行できる\n",
    "+ とりあえず，どのようなことができるかを確認できれば十分である．\n",
    "+ 具体的な使い方については，資料の3章以降で扱うことにする．\n",
    "\n",
    "まずは↓のセルを `Shift+Enter` で実行すること"
   ]
  },
  {
   "cell_type": "code",
   "execution_count": null,
   "metadata": {},
   "outputs": [],
   "source": [
    "# 最初にこのセルを選択して、実行すること\n",
    "from IPython.display import display, Math\n",
    "from sympy import *\n",
    "init_session()\n",
    "init_printing(use_latex=\"mathjax\", latex_mode=\"equation\")\n",
    "%matplotlib inline"
   ]
  },
  {
   "cell_type": "markdown",
   "metadata": {},
   "source": [
    "## 基本操作\n",
    "+ [数値計算](#numerical)\n",
    "+ [整数論](#number)\n",
    "+ [グラフの描画](#graph)\n",
    "+ [数式処理](#cas)\n",
    "\n",
    "## 応用\n",
    "+ [(参考)ipywidgets による動的表示](#ipywidgets)"
   ]
  },
  {
   "cell_type": "markdown",
   "metadata": {},
   "source": [
    "### <div id=\"numerical\">数値計算</div>\n",
    "+ 小数の四則演算はそのまま利用できる．\n",
    "+ 基本的に桁溢れは気にする必要はない"
   ]
  },
  {
   "cell_type": "code",
   "execution_count": null,
   "metadata": {},
   "outputs": [],
   "source": [
    "12345678*9+9"
   ]
  },
  {
   "cell_type": "markdown",
   "metadata": {},
   "source": [
    "+ べき乗は `**` を用いる．\n",
    "+ $2^{127}-1$ は素数として知られている(12番目のメルセンヌ素数)\n",
    "+ 13番目のメルセンヌ素数は $2^{521}-1$ である"
   ]
  },
  {
   "cell_type": "code",
   "execution_count": null,
   "metadata": {},
   "outputs": [],
   "source": [
    "2**127-1"
   ]
  },
  {
   "cell_type": "markdown",
   "metadata": {},
   "source": [
    "### <div id=\"number\">整数論</div>\n",
    "+ `factor` によりある程度小さな数ならば素因数分解が可能\n",
    "+ $2^{2^n}+1$ は $n\\le 4$ のときは素数であるが，$n\\ge 5$ のときは合成数しか知られていない"
   ]
  },
  {
   "cell_type": "code",
   "execution_count": null,
   "metadata": {},
   "outputs": [],
   "source": [
    "n=2**(2**5)+1\n",
    "print(n)\n",
    "factorint(n)"
   ]
  },
  {
   "cell_type": "markdown",
   "metadata": {},
   "source": [
    "+ 一方，与えられた2つの整数に対して，その最大公約数 (gcd) はユークリッドの互除法により簡単に求められる\n",
    "+ `%` は余りの演算"
   ]
  },
  {
   "cell_type": "code",
   "execution_count": null,
   "metadata": {},
   "outputs": [],
   "source": [
    "a=123*456+789+1\n",
    "b=987*654*321+1\n",
    "print(\"gcd(%d,%d)\"%(a,b))\n",
    "while (b>0):\n",
    "    a,b=b,a%b\n",
    "    print(\"=gcd(%d,%d)\"%(a,b))\n",
    "print(\"=%d\"%a)"
   ]
  },
  {
   "cell_type": "markdown",
   "metadata": {},
   "source": [
    "+ 余りの計算はコンピュータの世界では頻繁に用いられる\n",
    "+ $p$ が素数ならば，$p$ と互いに素である $a$ に対して，$a^{p-1}$ を $p$ で割った余りは $1$ になることが知られている"
   ]
  },
  {
   "cell_type": "code",
   "execution_count": null,
   "metadata": {},
   "outputs": [],
   "source": [
    "a,p=2,65537\n",
    "(a**(p-1))%p"
   ]
  },
  {
   "cell_type": "markdown",
   "metadata": {},
   "source": [
    "### <div id=\"graph\">グラフの描画</div>"
   ]
  },
  {
   "cell_type": "code",
   "execution_count": null,
   "metadata": {},
   "outputs": [],
   "source": [
    "f=sin(x)\n",
    "p1=plot(f,(x,0,2*pi)) # plot(「関数」,(「変数」,「開始値」,「終了値」))"
   ]
  },
  {
   "cell_type": "code",
   "execution_count": null,
   "metadata": {},
   "outputs": [],
   "source": [
    "# 3次元グラフの描画\n",
    "plotting.plot3d(x**2-y**2,x*y,(x,-1,1),(y,-1,1))"
   ]
  },
  {
   "cell_type": "markdown",
   "metadata": {},
   "source": [
    "### <div id=\"cas\">数式処理</div>\n",
    "+ `expand` で展開ができる"
   ]
  },
  {
   "cell_type": "code",
   "execution_count": null,
   "metadata": {},
   "outputs": [],
   "source": [
    "expand((x+y)**3)"
   ]
  },
  {
   "cell_type": "markdown",
   "metadata": {},
   "source": [
    "+ `factor` で因数分解"
   ]
  },
  {
   "cell_type": "code",
   "execution_count": null,
   "metadata": {},
   "outputs": [],
   "source": [
    "factor(x**16-y**16)"
   ]
  },
  {
   "cell_type": "markdown",
   "metadata": {},
   "source": [
    "+ `solveset` で方程式または不等式を解くことができる\n",
    "+ 多元方程式は `solve` を用いる"
   ]
  },
  {
   "cell_type": "code",
   "execution_count": null,
   "metadata": {},
   "outputs": [],
   "source": [
    "# 2次方程式の解の公式\n",
    "var('a,b,c')\n",
    "solveset(a*x**2+b*x+c,x)"
   ]
  },
  {
   "cell_type": "markdown",
   "metadata": {},
   "source": [
    "+ 3次方程式の解の公式もある(4次まではある)\n",
    "+ 5次以上では公式が存在しないことが知られている"
   ]
  },
  {
   "cell_type": "code",
   "execution_count": null,
   "metadata": {},
   "outputs": [],
   "source": [
    "# 3次方程式の解の公式\n",
    "var('a,b,c,d')\n",
    "solveset(a*x**3+b*x**2+c*x+d,x)"
   ]
  },
  {
   "cell_type": "markdown",
   "metadata": {},
   "source": [
    "## <div id=\"ipywidgets\">参考: ipywidgets による動的表示</div>\n",
    "+ ipywidgets というパッケージを用いることで，変数の設定による動的な様子を知ることができる\n",
    "+ 資料の内容を超えるものだが，興味のある者は調べてみると良いだろう\n"
   ]
  },
  {
   "cell_type": "code",
   "execution_count": null,
   "metadata": {},
   "outputs": [],
   "source": [
    "# 因数分解\n",
    "from ipywidgets import interact\n",
    "@interact\n",
    "def _(n=(1,10000,1)):\n",
    "    return factorint(n)"
   ]
  },
  {
   "cell_type": "code",
   "execution_count": null,
   "metadata": {},
   "outputs": [],
   "source": [
    "# ユークリッドの互除法\n",
    "from ipywidgets import interact\n",
    "@interact\n",
    "def _(n=(1,10000,1),m=(1,10000,1)):\n",
    "    returnstr = \"\\gcd(%d,%d)\"%(n,m)\n",
    "    while m>0:\n",
    "        n,m=m,n%m\n",
    "        returnstr += \"\\\\\\\\=\\gcd(%d,%d)\"%(n,m)\n",
    "    returnstr += \"\\\\\\\\=%d\"%(n)\n",
    "    return Math(returnstr)"
   ]
  },
  {
   "cell_type": "code",
   "execution_count": null,
   "metadata": {},
   "outputs": [],
   "source": [
    "%matplotlib inline\n",
    "# 3次不等式\n",
    "from ipywidgets import interact\n",
    "@interact\n",
    "def _(p=(-10,10, 1), q=(-10,10, 1),r=(-10,10,1)):\n",
    "    f=(x-p)*(x-q)*(x-r)\n",
    "    x0=min(p,q,r)-1\n",
    "    x1=max(p,q,r)+1\n",
    "    plot(f,(x,x0,x1))\n",
    "    return Math(latex(f)+\">0:\\quad \"+latex(solveset(f>0,x,S.Reals)))"
   ]
  },
  {
   "cell_type": "code",
   "execution_count": null,
   "metadata": {},
   "outputs": [],
   "source": []
  }
 ],
 "metadata": {
  "interpreter": {
   "hash": "7a896bddef400e5a1346610991a9210af079e2fb47388de88f9ed77dfa62444e"
  },
  "kernelspec": {
   "display_name": "Python 3 (ipykernel)",
   "language": "python",
   "name": "python3"
  },
  "language_info": {
   "codemirror_mode": {
    "name": "ipython",
    "version": 3
   },
   "file_extension": ".py",
   "mimetype": "text/x-python",
   "name": "python",
   "nbconvert_exporter": "python",
   "pygments_lexer": "ipython3",
   "version": "3.9.7"
  }
 },
 "nbformat": 4,
 "nbformat_minor": 4
}
